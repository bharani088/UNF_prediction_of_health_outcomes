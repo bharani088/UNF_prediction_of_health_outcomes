{
 "cells": [
  {
   "cell_type": "code",
   "execution_count": 769,
   "id": "ee714a6f",
   "metadata": {},
   "outputs": [],
   "source": [
    "#Combining all four area to one london grocery \n",
    "#import os\n",
    "#import glob\n",
    "#import pandas as pd\n",
    "#os.chdir(\"/Users/sujith/bharani/Fall_2021/Computing_praticum/Project\")\n",
    "\n",
    "#extension = 'csv'\n",
    "#all_filenames = [i for i in glob.glob('*.{}'.format(extension))]\n",
    "\n",
    "#combine all files in the list\n",
    "#combined_csv = pd.concat([pd.read_csv(f) for f in all_filenames ])\n",
    "#export to csv\n",
    "#combined_csv.to_csv( \"combined_csv.csv\", index=False, encoding='utf-8-sig')"
   ]
  },
  {
   "cell_type": "code",
   "execution_count": 1,
   "id": "5c479acc",
   "metadata": {},
   "outputs": [],
   "source": [
    "# importing all required libraries\n",
    "import json\n",
    "from pathlib import Path\n",
    "import numpy as np\n",
    "import pandas as pd\n",
    "\n",
    "import matplotlib.pyplot as plt\n",
    "import statsmodels.api as sm\n",
    "import statsmodels.formula.api as smf\n",
    "import seaborn as sns\n",
    "%matplotlib inline\n",
    "from scipy import stats\n",
    "from sklearn import tree\n",
    "from sklearn import svm\n",
    "from sklearn import linear_model, model_selection\n",
    "from sklearn.feature_selection import SelectKBest\n",
    "from sklearn.model_selection import train_test_split\n",
    "from sklearn.linear_model import LinearRegression\n",
    "from sklearn.metrics import mean_squared_error, r2_score\n",
    "from sklearn.ensemble import GradientBoostingRegressor\n",
    "from sklearn.ensemble import AdaBoostRegressor\n"
   ]
  },
  {
   "cell_type": "code",
   "execution_count": 2,
   "id": "8db98910",
   "metadata": {},
   "outputs": [],
   "source": [
    "\n",
    "#os.chdir(\"/Users/sujith/bharani/Fall_2021/Computing_praticum/Obese\")\n",
    "\n",
    "#extension = 'csv'\n",
    "#all_filenames = [i for i in glob.glob('*.{}'.format(extension))]\n",
    "\n",
    "#combine all files in the list\n",
    "#combined_csv = pd.concat([pd.read_csv(f) for f in all_filenames ])\n",
    "#export to csv\n",
    "#combined_csv.to_csv( \"combined_Obese_csv.csv\", index=False, encoding='utf-8-sig')"
   ]
  },
  {
   "cell_type": "code",
   "execution_count": 3,
   "id": "48be5030",
   "metadata": {},
   "outputs": [
    {
     "name": "stdout",
     "output_type": "stream",
     "text": [
      "/Users/sujith/bharani\n"
     ]
    }
   ],
   "source": [
    "# Loading the files into DataFrames\n",
    "print(Path.cwd())\n",
    "obesity_london = pd.read_csv(Path.cwd() / \"data\"/ \"combined_Obese_csv.csv\")\n",
    "grocery_london = pd.read_csv(Path.cwd() / \"data\"/ \"combined_csv.csv\")"
   ]
  },
  {
   "cell_type": "code",
   "execution_count": 4,
   "id": "e167c12d",
   "metadata": {},
   "outputs": [
    {
     "data": {
      "text/html": [
       "<div>\n",
       "<style scoped>\n",
       "    .dataframe tbody tr th:only-of-type {\n",
       "        vertical-align: middle;\n",
       "    }\n",
       "\n",
       "    .dataframe tbody tr th {\n",
       "        vertical-align: top;\n",
       "    }\n",
       "\n",
       "    .dataframe thead th {\n",
       "        text-align: right;\n",
       "    }\n",
       "</style>\n",
       "<table border=\"1\" class=\"dataframe\">\n",
       "  <thead>\n",
       "    <tr style=\"text-align: right;\">\n",
       "      <th></th>\n",
       "      <th>area_id</th>\n",
       "      <th>weight</th>\n",
       "      <th>weight_perc2.5</th>\n",
       "      <th>weight_perc25</th>\n",
       "      <th>weight_perc50</th>\n",
       "      <th>weight_perc75</th>\n",
       "      <th>weight_perc97.5</th>\n",
       "      <th>weight_std</th>\n",
       "      <th>weight_ci95</th>\n",
       "      <th>volume</th>\n",
       "      <th>...</th>\n",
       "      <th>man_day</th>\n",
       "      <th>population</th>\n",
       "      <th>male</th>\n",
       "      <th>female</th>\n",
       "      <th>age_0_17</th>\n",
       "      <th>age_18_64</th>\n",
       "      <th>age_65+</th>\n",
       "      <th>avg_age</th>\n",
       "      <th>area_sq_km</th>\n",
       "      <th>people_per_sq_km</th>\n",
       "    </tr>\n",
       "  </thead>\n",
       "  <tbody>\n",
       "    <tr>\n",
       "      <th>0</th>\n",
       "      <td>E09000001</td>\n",
       "      <td>323.174750</td>\n",
       "      <td>35.0</td>\n",
       "      <td>150.0</td>\n",
       "      <td>250.0</td>\n",
       "      <td>400.0</td>\n",
       "      <td>1000.0</td>\n",
       "      <td>323.692596</td>\n",
       "      <td>1.001520</td>\n",
       "      <td>98.842963</td>\n",
       "      <td>...</td>\n",
       "      <td>103883</td>\n",
       "      <td>6687.0</td>\n",
       "      <td>3697.0</td>\n",
       "      <td>2990.0</td>\n",
       "      <td>1018.0</td>\n",
       "      <td>4349.0</td>\n",
       "      <td>1320.0</td>\n",
       "      <td>43.910124</td>\n",
       "      <td>2.90</td>\n",
       "      <td>2305.862069</td>\n",
       "    </tr>\n",
       "    <tr>\n",
       "      <th>1</th>\n",
       "      <td>E09000002</td>\n",
       "      <td>421.304125</td>\n",
       "      <td>32.5</td>\n",
       "      <td>165.6</td>\n",
       "      <td>300.0</td>\n",
       "      <td>500.0</td>\n",
       "      <td>1500.0</td>\n",
       "      <td>597.994271</td>\n",
       "      <td>0.828993</td>\n",
       "      <td>122.341294</td>\n",
       "      <td>...</td>\n",
       "      <td>397127</td>\n",
       "      <td>203101.0</td>\n",
       "      <td>99442.0</td>\n",
       "      <td>103659.0</td>\n",
       "      <td>60281.0</td>\n",
       "      <td>123180.0</td>\n",
       "      <td>19640.0</td>\n",
       "      <td>33.017321</td>\n",
       "      <td>36.09</td>\n",
       "      <td>5627.625381</td>\n",
       "    </tr>\n",
       "    <tr>\n",
       "      <th>2</th>\n",
       "      <td>E09000003</td>\n",
       "      <td>407.170491</td>\n",
       "      <td>40.0</td>\n",
       "      <td>180.0</td>\n",
       "      <td>320.0</td>\n",
       "      <td>500.0</td>\n",
       "      <td>1160.0</td>\n",
       "      <td>443.644324</td>\n",
       "      <td>0.171615</td>\n",
       "      <td>114.933771</td>\n",
       "      <td>...</td>\n",
       "      <td>4131210</td>\n",
       "      <td>378778.0</td>\n",
       "      <td>186357.0</td>\n",
       "      <td>192421.0</td>\n",
       "      <td>88754.0</td>\n",
       "      <td>237036.0</td>\n",
       "      <td>52988.0</td>\n",
       "      <td>37.195582</td>\n",
       "      <td>86.76</td>\n",
       "      <td>4365.813739</td>\n",
       "    </tr>\n",
       "    <tr>\n",
       "      <th>3</th>\n",
       "      <td>E09000004</td>\n",
       "      <td>359.544126</td>\n",
       "      <td>30.0</td>\n",
       "      <td>144.0</td>\n",
       "      <td>255.0</td>\n",
       "      <td>450.0</td>\n",
       "      <td>1000.0</td>\n",
       "      <td>476.576945</td>\n",
       "      <td>0.819748</td>\n",
       "      <td>106.446426</td>\n",
       "      <td>...</td>\n",
       "      <td>380177</td>\n",
       "      <td>242387.0</td>\n",
       "      <td>116814.0</td>\n",
       "      <td>125573.0</td>\n",
       "      <td>56028.0</td>\n",
       "      <td>146237.0</td>\n",
       "      <td>40122.0</td>\n",
       "      <td>38.880749</td>\n",
       "      <td>60.58</td>\n",
       "      <td>4001.105976</td>\n",
       "    </tr>\n",
       "    <tr>\n",
       "      <th>4</th>\n",
       "      <td>E09000005</td>\n",
       "      <td>434.324141</td>\n",
       "      <td>40.0</td>\n",
       "      <td>175.0</td>\n",
       "      <td>325.0</td>\n",
       "      <td>500.0</td>\n",
       "      <td>1500.0</td>\n",
       "      <td>616.087316</td>\n",
       "      <td>0.354492</td>\n",
       "      <td>128.930369</td>\n",
       "      <td>...</td>\n",
       "      <td>2541113</td>\n",
       "      <td>323443.0</td>\n",
       "      <td>163939.0</td>\n",
       "      <td>159504.0</td>\n",
       "      <td>75033.0</td>\n",
       "      <td>211885.0</td>\n",
       "      <td>36525.0</td>\n",
       "      <td>35.766416</td>\n",
       "      <td>43.28</td>\n",
       "      <td>7473.267098</td>\n",
       "    </tr>\n",
       "  </tbody>\n",
       "</table>\n",
       "<p>5 rows × 202 columns</p>\n",
       "</div>"
      ],
      "text/plain": [
       "     area_id      weight  weight_perc2.5  weight_perc25  weight_perc50  \\\n",
       "0  E09000001  323.174750            35.0          150.0          250.0   \n",
       "1  E09000002  421.304125            32.5          165.6          300.0   \n",
       "2  E09000003  407.170491            40.0          180.0          320.0   \n",
       "3  E09000004  359.544126            30.0          144.0          255.0   \n",
       "4  E09000005  434.324141            40.0          175.0          325.0   \n",
       "\n",
       "   weight_perc75  weight_perc97.5  weight_std  weight_ci95      volume  ...  \\\n",
       "0          400.0           1000.0  323.692596     1.001520   98.842963  ...   \n",
       "1          500.0           1500.0  597.994271     0.828993  122.341294  ...   \n",
       "2          500.0           1160.0  443.644324     0.171615  114.933771  ...   \n",
       "3          450.0           1000.0  476.576945     0.819748  106.446426  ...   \n",
       "4          500.0           1500.0  616.087316     0.354492  128.930369  ...   \n",
       "\n",
       "   man_day  population      male    female  age_0_17  age_18_64  age_65+  \\\n",
       "0   103883      6687.0    3697.0    2990.0    1018.0     4349.0   1320.0   \n",
       "1   397127    203101.0   99442.0  103659.0   60281.0   123180.0  19640.0   \n",
       "2  4131210    378778.0  186357.0  192421.0   88754.0   237036.0  52988.0   \n",
       "3   380177    242387.0  116814.0  125573.0   56028.0   146237.0  40122.0   \n",
       "4  2541113    323443.0  163939.0  159504.0   75033.0   211885.0  36525.0   \n",
       "\n",
       "     avg_age  area_sq_km  people_per_sq_km  \n",
       "0  43.910124        2.90       2305.862069  \n",
       "1  33.017321       36.09       5627.625381  \n",
       "2  37.195582       86.76       4365.813739  \n",
       "3  38.880749       60.58       4001.105976  \n",
       "4  35.766416       43.28       7473.267098  \n",
       "\n",
       "[5 rows x 202 columns]"
      ]
     },
     "execution_count": 4,
     "metadata": {},
     "output_type": "execute_result"
    }
   ],
   "source": [
    "grocery_london.head(5)\n"
   ]
  },
  {
   "cell_type": "code",
   "execution_count": 5,
   "id": "a887454d",
   "metadata": {},
   "outputs": [
    {
     "data": {
      "text/plain": [
       "6487"
      ]
     },
     "execution_count": 5,
     "metadata": {},
     "output_type": "execute_result"
    }
   ],
   "source": [
    "len(grocery_london.index)"
   ]
  },
  {
   "cell_type": "code",
   "execution_count": 6,
   "id": "d3424bdf",
   "metadata": {},
   "outputs": [],
   "source": [
    "#merging grocery TESCO with NHS obesity data\n",
    "joined_df = grocery_london.merge(obesity_london, how='inner', on='area_id')"
   ]
  },
  {
   "cell_type": "code",
   "execution_count": 7,
   "id": "c626808e",
   "metadata": {},
   "outputs": [
    {
     "name": "stdout",
     "output_type": "stream",
     "text": [
      "We have 202 potentials predictors and 7 potential labels, for 544 datapoints\n"
     ]
    }
   ],
   "source": [
    "print(f\"We have {len(grocery_london.columns)} potentials predictors and {len(obesity_london.columns)} potential labels, for {len(joined_df)} datapoints\")"
   ]
  },
  {
   "cell_type": "code",
   "execution_count": 8,
   "id": "4575e9b2",
   "metadata": {},
   "outputs": [
    {
     "data": {
      "text/html": [
       "<div>\n",
       "<style scoped>\n",
       "    .dataframe tbody tr th:only-of-type {\n",
       "        vertical-align: middle;\n",
       "    }\n",
       "\n",
       "    .dataframe tbody tr th {\n",
       "        vertical-align: top;\n",
       "    }\n",
       "\n",
       "    .dataframe thead th {\n",
       "        text-align: right;\n",
       "    }\n",
       "</style>\n",
       "<table border=\"1\" class=\"dataframe\">\n",
       "  <thead>\n",
       "    <tr style=\"text-align: right;\">\n",
       "      <th></th>\n",
       "      <th>fat</th>\n",
       "      <th>sugar</th>\n",
       "      <th>energy_tot</th>\n",
       "      <th>prevalence_overweight_y6</th>\n",
       "    </tr>\n",
       "  </thead>\n",
       "  <tbody>\n",
       "    <tr>\n",
       "      <th>0</th>\n",
       "      <td>9.488797</td>\n",
       "      <td>10.966213</td>\n",
       "      <td>187.114757</td>\n",
       "      <td>0.387755102</td>\n",
       "    </tr>\n",
       "    <tr>\n",
       "      <th>1</th>\n",
       "      <td>9.733634</td>\n",
       "      <td>10.514427</td>\n",
       "      <td>188.638145</td>\n",
       "      <td>0.402810304</td>\n",
       "    </tr>\n",
       "    <tr>\n",
       "      <th>2</th>\n",
       "      <td>9.216310</td>\n",
       "      <td>10.690272</td>\n",
       "      <td>186.861792</td>\n",
       "      <td>0.466933868</td>\n",
       "    </tr>\n",
       "    <tr>\n",
       "      <th>3</th>\n",
       "      <td>9.700137</td>\n",
       "      <td>12.938606</td>\n",
       "      <td>190.783934</td>\n",
       "      <td>0.422651934</td>\n",
       "    </tr>\n",
       "    <tr>\n",
       "      <th>4</th>\n",
       "      <td>9.381808</td>\n",
       "      <td>11.332898</td>\n",
       "      <td>188.136201</td>\n",
       "      <td>0.378125</td>\n",
       "    </tr>\n",
       "  </tbody>\n",
       "</table>\n",
       "</div>"
      ],
      "text/plain": [
       "        fat      sugar  energy_tot prevalence_overweight_y6\n",
       "0  9.488797  10.966213  187.114757              0.387755102\n",
       "1  9.733634  10.514427  188.638145              0.402810304\n",
       "2  9.216310  10.690272  186.861792              0.466933868\n",
       "3  9.700137  12.938606  190.783934              0.422651934\n",
       "4  9.381808  11.332898  188.136201                 0.378125"
      ]
     },
     "execution_count": 8,
     "metadata": {},
     "output_type": "execute_result"
    }
   ],
   "source": [
    "#checking with absolute values\n",
    "data_new = joined_df[[\"fat\", \"sugar\", \"energy_tot\", \"prevalence_overweight_y6\"]]\n",
    "data_new.head(5)"
   ]
  },
  {
   "cell_type": "code",
   "execution_count": 9,
   "id": "6480cad8",
   "metadata": {},
   "outputs": [],
   "source": [
    "#target is prevalence_overweight_y6\n",
    "data_new = data_new[data_new[\"prevalence_overweight_y6\"] != \"na\"]\n",
    "\n",
    "X_1 = data_new[[\"fat\", \"sugar\", \"energy_tot\"]]\n",
    "Y_1 = data_new[\"prevalence_overweight_y6\"].astype(float)\n",
    "\n",
    "X_train_1, X_test_1, y_train_1, y_test_1 = train_test_split(X_1, Y_1, test_size=0.2, random_state=0)"
   ]
  },
  {
   "cell_type": "markdown",
   "id": "07123705",
   "metadata": {},
   "source": [
    "creating machine learning models\n",
    "\n"
   ]
  },
  {
   "cell_type": "code",
   "execution_count": 10,
   "id": "eba2ddab",
   "metadata": {},
   "outputs": [],
   "source": [
    "\n",
    "# Linear Regression\n",
    "def linear_regression(X_train, y_train, X_test, y_test):\n",
    "    linear_model = LinearRegression()\n",
    "    linear_model = linear_model.fit(X_train, y_train)\n",
    "    linear_model_prediction = linear_model.predict(X_test)\n",
    "    print(f\"get_params([linear_model_prediction])\")\n",
    "    print(f\"Mean squared error: {mean_squared_error(y_test, linear_model_prediction):.3f}\")\n",
    "    print(f\"R2 score: {r2_score(y_test, linear_model_prediction):.3f}\")\n",
    "    #print(f\"coefs {linear_model.coef_}\")\n",
    "    return linear_model_prediction\n",
    "\n",
    "# Ridge model\n",
    "def ridge_model(X_train, y_train, X_test, y_test):\n",
    "    alphas = np.arange(0.1, 10, 0.1)\n",
    "    best_r2_score_ridge = -99\n",
    "    mse_score_related_ridge = 0\n",
    "    best_alpha = 0\n",
    "\n",
    "\n",
    "    for alpha in alphas:\n",
    "        ridge_model = linear_model.Ridge(alpha=alpha)\n",
    "        ridge_model.fit(X_train, y_train)\n",
    "        ridge_model_prediction = ridge_model.predict(X_test)\n",
    "        r2 = r2_score(y_test, ridge_model_prediction)\n",
    "        mse = mean_squared_error(y_test, ridge_model_prediction)\n",
    "        if r2 > best_r2_score_ridge:\n",
    "            best_r2_score_ridge = r2\n",
    "            mse_score_related_ridge = mse\n",
    "            best_alpha = alpha\n",
    "\n",
    "    print(f\"A ridge model obtain the best r2 score when the lasso alpha is {best_alpha}. The r2 score is {best_r2_score_ridge:.3f} and the related mse score is {mse_score_related_ridge:.3f}\")\n",
    "    \n",
    "def svm_model(X_train, y_train, X_test, y_test):\n",
    "    svm_model = svm.SVR()\n",
    "    svm_model = svm_model.fit(X_train, y_train)\n",
    "    svm_model_prediction = svm_model.predict(X_test)\n",
    "\n",
    "    print(f\"SVM: Mean squared error: {mean_squared_error(y_test, svm_model_prediction):.3f}\")\n",
    "    print(f\"SVM: R2 score: {r2_score(y_test, svm_model_prediction):.3f}\")\n",
    "\n",
    "    \n",
    "def tree_model(X_train, y_train, X_test, y_test):\n",
    "    tree_model = tree.DecisionTreeRegressor(max_depth=3)\n",
    "    tree_model = tree_model.fit(X_train, y_train)\n",
    "    tree_model_prediction = tree_model.predict(X_test)\n",
    "\n",
    "    print(f\"Decision Tree: Mean squared error: {mean_squared_error(y_test, tree_model_prediction):.3f}\")\n",
    "    print(f\"Decision Tree: R2 score: {r2_score(y_test, tree_model_prediction):.3f}\")\n",
    "\n",
    "def GBR_model(X_train, y_train, X_test, y_test):\n",
    "    GBR_model = GradientBoostingRegressor(n_estimators=100, learning_rate=1.0, max_depth=1, random_state=0)\n",
    "    GBR_model = GBR_model.fit(X_train, y_train)\n",
    "    GBR_model_prediction = GBR_model.predict(X_test)\n",
    "\n",
    "    print(f\"Gradient Boosting Regressor: Mean squared error: {mean_squared_error(y_test, GBR_model_prediction):.3f}\")\n",
    "    print(f\"Gradient Boosting Regressor::R2 score: {r2_score(y_test, GBR_model_prediction):.3f}\")\n",
    "    \n",
    "def ADA_model(X_train, y_train, X_test, y_test):\n",
    "    ADA_model = AdaBoostRegressor(n_estimators=10)\n",
    "    ADA_model = ADA_model.fit(X_train, y_train)\n",
    "    ADA_model_prediction = ADA_model.predict(X_test)\n",
    "\n",
    "    print(f\"ADA: Mean squared error: {mean_squared_error(y_test, ADA_model_prediction):.3f}\")\n",
    "    print(f\"ADA: R2 score: {r2_score(y_test, ADA_model_prediction):.3f}\")"
   ]
  },
  {
   "cell_type": "code",
   "execution_count": 11,
   "id": "1d4eb71c",
   "metadata": {},
   "outputs": [
    {
     "name": "stdout",
     "output_type": "stream",
     "text": [
      "get_params([linear_model_prediction])\n",
      "Mean squared error: 0.004\n",
      "R2 score: -0.108\n",
      "A ridge model obtain the best r2 score when the lasso alpha is 9.9. The r2 score is -0.071 and the related mse score is 0.004\n",
      "SVM: Mean squared error: 0.004\n",
      "SVM: R2 score: -0.292\n",
      "Decision Tree: Mean squared error: 0.004\n",
      "Decision Tree: R2 score: -0.080\n",
      "Gradient Boosting Regressor: Mean squared error: 0.004\n",
      "Gradient Boosting Regressor::R2 score: -0.219\n",
      "ADA: Mean squared error: 0.004\n",
      "ADA: R2 score: -0.107\n"
     ]
    }
   ],
   "source": [
    "#predicting with above attributes \n",
    "linear_regression(X_train_1, y_train_1, X_test_1, y_test_1)\n",
    "\n",
    "ridge_model(X_train_1, y_train_1, X_test_1, y_test_1)\n",
    "svm_model(X_train_1, y_train_1, X_test_1, y_test_1)\n",
    "tree_model(X_train_1, y_train_1, X_test_1, y_test_1)\n",
    "GBR_model(X_train_1, y_train_1, X_test_1, y_test_1)\n",
    "ADA_model(X_train_1, y_train_1, X_test_1, y_test_1)"
   ]
  },
  {
   "cell_type": "markdown",
   "id": "c7280cd2",
   "metadata": {},
   "source": [
    "R2 is negative which means the models didnot perform well as expected"
   ]
  },
  {
   "cell_type": "code",
   "execution_count": 12,
   "id": "892420f3",
   "metadata": {},
   "outputs": [
    {
     "data": {
      "text/html": [
       "<div>\n",
       "<style scoped>\n",
       "    .dataframe tbody tr th:only-of-type {\n",
       "        vertical-align: middle;\n",
       "    }\n",
       "\n",
       "    .dataframe tbody tr th {\n",
       "        vertical-align: top;\n",
       "    }\n",
       "\n",
       "    .dataframe thead th {\n",
       "        text-align: right;\n",
       "    }\n",
       "</style>\n",
       "<table border=\"1\" class=\"dataframe\">\n",
       "  <thead>\n",
       "    <tr style=\"text-align: right;\">\n",
       "      <th></th>\n",
       "      <th>f_energy_fat</th>\n",
       "      <th>f_energy_sugar</th>\n",
       "      <th>energy_tot</th>\n",
       "      <th>prevalence_overweight_y6</th>\n",
       "    </tr>\n",
       "  </thead>\n",
       "  <tbody>\n",
       "    <tr>\n",
       "      <th>0</th>\n",
       "      <td>0.456400</td>\n",
       "      <td>0.234428</td>\n",
       "      <td>187.114757</td>\n",
       "      <td>0.387755102</td>\n",
       "    </tr>\n",
       "    <tr>\n",
       "      <th>1</th>\n",
       "      <td>0.464395</td>\n",
       "      <td>0.222954</td>\n",
       "      <td>188.638145</td>\n",
       "      <td>0.402810304</td>\n",
       "    </tr>\n",
       "    <tr>\n",
       "      <th>2</th>\n",
       "      <td>0.443894</td>\n",
       "      <td>0.228838</td>\n",
       "      <td>186.861792</td>\n",
       "      <td>0.466933868</td>\n",
       "    </tr>\n",
       "    <tr>\n",
       "      <th>3</th>\n",
       "      <td>0.457592</td>\n",
       "      <td>0.271272</td>\n",
       "      <td>190.783934</td>\n",
       "      <td>0.422651934</td>\n",
       "    </tr>\n",
       "    <tr>\n",
       "      <th>4</th>\n",
       "      <td>0.448804</td>\n",
       "      <td>0.240951</td>\n",
       "      <td>188.136201</td>\n",
       "      <td>0.378125</td>\n",
       "    </tr>\n",
       "  </tbody>\n",
       "</table>\n",
       "</div>"
      ],
      "text/plain": [
       "   f_energy_fat  f_energy_sugar  energy_tot prevalence_overweight_y6\n",
       "0      0.456400        0.234428  187.114757              0.387755102\n",
       "1      0.464395        0.222954  188.638145              0.402810304\n",
       "2      0.443894        0.228838  186.861792              0.466933868\n",
       "3      0.457592        0.271272  190.783934              0.422651934\n",
       "4      0.448804        0.240951  188.136201                 0.378125"
      ]
     },
     "execution_count": 12,
     "metadata": {},
     "output_type": "execute_result"
    }
   ],
   "source": [
    "#Trying with other fraction of nutrients\n",
    "\n",
    "data_2 = joined_df[[\"f_energy_fat\", \"f_energy_sugar\", \"energy_tot\", \"prevalence_overweight_y6\"]]\n",
    "data_2.head(5)"
   ]
  },
  {
   "cell_type": "code",
   "execution_count": 13,
   "id": "d75d3083",
   "metadata": {},
   "outputs": [],
   "source": [
    "data_2 = data_2[data_2[\"prevalence_overweight_y6\"] != \"na\"]\n",
    "\n",
    "X_2 = data_2[[\"f_energy_fat\", \"f_energy_sugar\", \"energy_tot\"]]\n",
    "Y_2 = data_2[\"prevalence_overweight_y6\"].astype(float)\n",
    "\n",
    "\n",
    "X_train_2, X_test_2, y_train_2, y_test_2 = train_test_split(X_2, Y_2, test_size=0.2, random_state=0)"
   ]
  },
  {
   "cell_type": "code",
   "execution_count": 14,
   "id": "ad125584",
   "metadata": {},
   "outputs": [
    {
     "name": "stdout",
     "output_type": "stream",
     "text": [
      "get_params([linear_model_prediction])\n",
      "Mean squared error: 0.004\n",
      "R2 score: -0.101\n",
      "A ridge model obtain the best r2 score when the lasso alpha is 1.3000000000000003. The r2 score is -0.050 and the related mse score is 0.004\n",
      "SVM: Mean squared error: 0.004\n",
      "SVM: R2 score: -0.285\n",
      "Decision Tree: Mean squared error: 0.004\n",
      "Decision Tree: R2 score: -0.225\n",
      "Gradient Boosting Regressor: Mean squared error: 0.005\n",
      "Gradient Boosting Regressor::R2 score: -0.389\n",
      "ADA: Mean squared error: 0.004\n",
      "ADA: R2 score: -0.110\n"
     ]
    }
   ],
   "source": [
    "linear_regression(X_train_2, y_train_2, X_test_2, y_test_2)\n",
    "ridge_model(X_train_2, y_train_2, X_test_2, y_test_2)\n",
    "svm_model(X_train_2, y_train_2, X_test_2, y_test_2)\n",
    "tree_model(X_train_2, y_train_2, X_test_2, y_test_2)\n",
    "GBR_model(X_train_2, y_train_2, X_test_2, y_test_2)\n",
    "ADA_model(X_train_2, y_train_2, X_test_2, y_test_2)"
   ]
  },
  {
   "cell_type": "markdown",
   "id": "a6094cd0",
   "metadata": {},
   "source": [
    "R2 is negative, so models didnot perform well "
   ]
  },
  {
   "cell_type": "code",
   "execution_count": 15,
   "id": "4a0c61a8",
   "metadata": {},
   "outputs": [],
   "source": [
    "#finding the correlation between the energy of the product and entropy\n",
    "nutrients_fraction = ['energy_fat', 'energy_saturate', 'energy_sugar', 'energy_protein',\n",
    "                      'energy_carb', 'energy_fibre', 'energy_tot','h_nutrients_calories',]\n",
    "\n",
    "\n",
    "def compute_correlations_overweight(df,overweight_y6, categories=nutrients_fraction):\n",
    "    r_values = []\n",
    "    p_values = []\n",
    "    category = []\n",
    "\n",
    "    for cat in categories:\n",
    "        correl, p_value = stats.spearmanr(df[cat],df[overweight_y6])\n",
    "        r_values.append(correl)\n",
    "        p_values.append(p_value)\n",
    "        category.append(cat)\n",
    "\n",
    "\n",
    "    correlation_df = pd.DataFrame({'Category' : category, 'R': r_values, 'p': p_values, 'statistically_significant' : [ p < 0.5 for p in p_values]})\n",
    "    correlation_df\n",
    "    \n",
    "    return correlation_df"
   ]
  },
  {
   "cell_type": "code",
   "execution_count": 16,
   "id": "e967a8fc",
   "metadata": {},
   "outputs": [
    {
     "data": {
      "image/png": "[encoded data removed]",
      "text/plain": [
       "<Figure size 720x432 with 1 Axes>"
      ]
     },
     "metadata": {
      "needs_background": "light"
     },
     "output_type": "display_data"
    }
   ],
   "source": [
    "correlation_obese = compute_correlations_overweight(df=joined_df,overweight_y6=\"prevalence_overweight_y6\")\n",
    "\n",
    "fig = plt.figure(figsize=(10,6))\n",
    "plt.title('correlation between obesity and food', fontsize=20)\n",
    "plt.bar(correlation_obese.Category,correlation_obese.R, color = [ 'white' if not v[3] else'tab:orange' if v[1] > 0 else 'tab:blue' for v in correlation_obese.values])\n",
    "plt.xticks(correlation_obese.Category,nutrients_fraction, rotation='vertical',fontsize=15)\n",
    "plt.axhline(y=0,color='black') \n",
    "plt.ylabel('R',fontsize=20)\n",
    "plt.show()"
   ]
  },
  {
   "cell_type": "code",
   "execution_count": 17,
   "id": "a32ca932",
   "metadata": {},
   "outputs": [
    {
     "data": {
      "text/plain": [
       "['f_energy_fat',\n",
       " 'f_energy_saturate',\n",
       " 'f_energy_sugar',\n",
       " 'f_energy_protein',\n",
       " 'f_energy_carb',\n",
       " 'f_energy_fibre',\n",
       " 'f_energy_alcohol',\n",
       " 'f_beer',\n",
       " 'f_dairy',\n",
       " 'f_eggs',\n",
       " 'f_fats_oils',\n",
       " 'f_fish',\n",
       " 'f_fruit_veg',\n",
       " 'f_grains',\n",
       " 'f_meat_red',\n",
       " 'f_poultry',\n",
       " 'f_readymade',\n",
       " 'f_sauces',\n",
       " 'f_soft_drinks',\n",
       " 'f_spirits',\n",
       " 'f_sweets',\n",
       " 'f_tea_coffee',\n",
       " 'f_water',\n",
       " 'f_wine',\n",
       " 'f_dairy_weight',\n",
       " 'f_eggs_weight',\n",
       " 'f_fats_oils_weight',\n",
       " 'f_fish_weight',\n",
       " 'f_fruit_veg_weight',\n",
       " 'f_grains_weight',\n",
       " 'f_meat_red_weight',\n",
       " 'f_poultry_weight',\n",
       " 'f_readymade_weight',\n",
       " 'f_sauces_weight',\n",
       " 'f_sweets_weight']"
      ]
     },
     "execution_count": 17,
     "metadata": {},
     "output_type": "execute_result"
    }
   ],
   "source": [
    "\n",
    "#picking the fraction of food category items\n",
    "\n",
    "columns_categories = [a for a in joined_df if (a.startswith(\"f_\"))]\n",
    "columns_categories"
   ]
  },
  {
   "cell_type": "code",
   "execution_count": 18,
   "id": "eaa058e7",
   "metadata": {},
   "outputs": [],
   "source": [
    "columns_categories.remove('f_beer')\n",
    "columns_categories.remove('f_spirits')\n",
    "columns_categories.remove('f_wine')"
   ]
  },
  {
   "cell_type": "code",
   "execution_count": 19,
   "id": "82af8576",
   "metadata": {},
   "outputs": [],
   "source": [
    "columns_categories.append(\"prevalence_overweight_y6\")\n",
    "columns_categories.append(\"fat\")\n",
    "columns_categories.append(\"sugar\")\n",
    "columns_categories.append(\"protein\")\n",
    "columns_categories.append(\"carb\")\n",
    "columns_categories.append(\"fibre\")\n",
    "columns_categories.append(\"energy_carb\")\n",
    "columns_categories.append(\"energy_tot\")\n",
    "data_category = joined_df[columns_categories]\n",
    "data_category = data_category[data_category[\"prevalence_overweight_y6\"] != \"na\"].astype(float)\n",
    "\n",
    "X_category = data_category[columns_categories[:-1]]\n",
    "Y_category = data_category[\"prevalence_overweight_y6\"]\n",
    "\n",
    "\n",
    "X_train_category, X_test_category, y_train_category, y_test_category = train_test_split(X_category, Y_category, test_size=0.2, random_state=0)"
   ]
  },
  {
   "cell_type": "code",
   "execution_count": 20,
   "id": "fc1b2db0",
   "metadata": {},
   "outputs": [
    {
     "name": "stdout",
     "output_type": "stream",
     "text": [
      "get_params([linear_model_prediction])\n",
      "Mean squared error: 0.000\n",
      "R2 score: 1.000\n",
      "A ridge model obtain the best r2 score when the lasso alpha is 0.1. The r2 score is 0.993 and the related mse score is 0.000\n",
      "SVM: Mean squared error: 0.004\n",
      "SVM: R2 score: -0.258\n",
      "Decision Tree: Mean squared error: 0.000\n",
      "Decision Tree: R2 score: 0.964\n",
      "Gradient Boosting Regressor: Mean squared error: 0.000\n",
      "Gradient Boosting Regressor::R2 score: 0.989\n",
      "ADA: Mean squared error: 0.000\n",
      "ADA: R2 score: 0.991\n"
     ]
    }
   ],
   "source": [
    "linear_regression(X_train_category, y_train_category, X_test_category, y_test_category)\n",
    "ridge_model(X_train_category, y_train_category, X_test_category, y_test_category)\n",
    "svm_model(X_train_category, y_train_category, X_test_category, y_test_category)\n",
    "tree_model(X_train_category, y_train_category, X_test_category, y_test_category)\n",
    "GBR_model(X_train_category, y_train_category, X_test_category, y_test_category)\n",
    "ADA_model(X_train_category, y_train_category, X_test_category, y_test_category)"
   ]
  },
  {
   "cell_type": "markdown",
   "id": "3a75f01e",
   "metadata": {},
   "source": [
    "From above R2 values, the linear regression has performed well compared to others"
   ]
  },
  {
   "cell_type": "code",
   "execution_count": 21,
   "id": "f9553cfc",
   "metadata": {},
   "outputs": [
    {
     "name": "stdout",
     "output_type": "stream",
     "text": [
      "get_params([linear_model_prediction])\n",
      "Mean squared error: 0.000\n",
      "R2 score: 1.000\n"
     ]
    },
    {
     "data": {
      "text/plain": [
       "Text(0.5, 1.0, 'LinearRegression Plot')"
      ]
     },
     "execution_count": 21,
     "metadata": {},
     "output_type": "execute_result"
    },
    {
     "data": {
      "image/png": "[encoded data removed]",
      "text/plain": [
       "<Figure size 432x288 with 1 Axes>"
      ]
     },
     "metadata": {
      "needs_background": "light"
     },
     "output_type": "display_data"
    }
   ],
   "source": [
    "#Visulaizing the best model that is linear regression\n",
    "\n",
    "predicted_y = linear_regression(X_train_category, y_train_category, X_test_category, y_test_category)\n",
    "lm = LinearRegression()\n",
    "lm.fit(X_train_category, y_train_category)\n",
    "plt.scatter(lm.predict(X_train_category), lm.predict(X_train_category)-y_train_category, c='b', s=40, alpha=0.5)\n",
    "plt.scatter(lm.predict(X_test_category), lm.predict(X_test_category)-y_test_category, c='g', s=40)\n",
    "plt.hlines(y=0, xmin=0, xmax=0.65)\n",
    "plt.xlabel(\"Actual weight %\")\n",
    "plt.ylabel(\"Predicted weight %\")\n",
    "plt.title(\"LinearRegression Plot\")\n",
    "\n",
    "\n",
    "\n",
    "\n"
   ]
  },
  {
   "cell_type": "markdown",
   "id": "b20b8d47",
   "metadata": {},
   "source": [
    " We decided to perform an ordinary least squares statistical analysis. After discarding the non statistically significant product categories, we plotted the result with the 95% confidence interval"
   ]
  },
  {
   "cell_type": "code",
   "execution_count": 22,
   "id": "3f1c8793",
   "metadata": {},
   "outputs": [
    {
     "name": "stdout",
     "output_type": "stream",
     "text": [
      "                               OLS Regression Results                               \n",
      "====================================================================================\n",
      "Dep. Variable:     prevalence_overweight_y6   R-squared:                       0.486\n",
      "Model:                                  OLS   Adj. R-squared:                  0.474\n",
      "Method:                       Least Squares   F-statistic:                     41.17\n",
      "Date:                      Mon, 06 Dec 2021   Prob (F-statistic):           8.87e-68\n",
      "Time:                              23:03:15   Log-Likelihood:                 899.15\n",
      "No. Observations:                       536   AIC:                            -1772.\n",
      "Df Residuals:                           523   BIC:                            -1717.\n",
      "Df Model:                                12                                         \n",
      "Covariance Type:                  nonrobust                                         \n",
      "=================================================================================\n",
      "                    coef    std err          t      P>|t|      [0.025      0.975]\n",
      "---------------------------------------------------------------------------------\n",
      "Intercept        -0.1781      0.274     -0.650      0.516      -0.717       0.360\n",
      "f_dairy           1.1197      0.413      2.711      0.007       0.308       1.931\n",
      "f_eggs            1.8006      1.429      1.260      0.208      -1.006       4.607\n",
      "f_fats_oils      -1.2020      0.774     -1.554      0.121      -2.722       0.318\n",
      "f_fish            5.5408      0.914      6.063      0.000       3.746       7.336\n",
      "f_fruit_veg      -0.1877      0.304     -0.618      0.537      -0.785       0.409\n",
      "f_grains          0.9537      0.357      2.670      0.008       0.252       1.655\n",
      "f_meat_red        1.2509      0.613      2.041      0.042       0.047       2.455\n",
      "f_poultry         3.5036      1.176      2.979      0.003       1.193       5.814\n",
      "f_readymade      -1.7363      0.448     -3.879      0.000      -2.616      -0.857\n",
      "f_sauces         -3.0697      1.307     -2.349      0.019      -5.637      -0.503\n",
      "f_soft_drinks     3.8602      0.576      6.704      0.000       2.729       4.991\n",
      "f_sweets          0.8364      0.311      2.693      0.007       0.226       1.447\n",
      "==============================================================================\n",
      "Omnibus:                        0.998   Durbin-Watson:                   1.820\n",
      "Prob(Omnibus):                  0.607   Jarque-Bera (JB):                0.812\n",
      "Skew:                          -0.069   Prob(JB):                        0.666\n",
      "Kurtosis:                       3.132   Cond. No.                         867.\n",
      "==============================================================================\n",
      "\n",
      "Notes:\n",
      "[1] Standard Errors assume that the covariance matrix of the errors is correctly specified.\n"
     ]
    }
   ],
   "source": [
    "df_1 = joined_df[joined_df[\"prevalence_overweight_y6\"] != \"na\"].copy()\n",
    "df_1[\"prevalence_overweight_y6\"] = df_1[\"prevalence_overweight_y6\"].astype(float)\n",
    "mod = smf.ols(formula='prevalence_overweight_y6 ~  f_dairy + f_eggs + f_fats_oils + f_fish + f_fruit_veg + f_grains + f_meat_red + f_poultry + f_readymade + f_sauces + f_soft_drinks + f_sweets', data= df_1)\n",
    "\n",
    "res = mod.fit()\n",
    "\n",
    "# coefficients\n",
    "variables_1 = res.params.index\n",
    "\n",
    "coefficients_1 = res.params.values\n",
    "\n",
    "# p-values\n",
    "p_values_1 = res.pvalues\n",
    "\n",
    "# standard errors\n",
    "standard_errors_1 = res.bse.values\n",
    "stats_1 = pd.DataFrame({'variables_1': variables_1, 'coef_1': coefficients_1, 'p_values_1': p_values_1, 'std_err_1': standard_errors_1})\n",
    "\n",
    "print(res.summary())"
   ]
  },
  {
   "cell_type": "code",
   "execution_count": 23,
   "id": "79cd4553",
   "metadata": {},
   "outputs": [
    {
     "data": {
      "image/png": "[encoded data removed]",
      "text/plain": [
       "<Figure size 432x288 with 1 Axes>"
      ]
     },
     "metadata": {
      "needs_background": "light"
     },
     "output_type": "display_data"
    }
   ],
   "source": [
    "l1, l2, l3, l4 = zip(*sorted(zip(coefficients_1[1:], variables_1[1:], standard_errors_1[1:], p_values_1[1:])))\n",
    "\n",
    "#fancy plotting\n",
    "\n",
    "plt.errorbar(l1, np.array(range(len(l1))), xerr= 2*np.array(l3), linewidth = 1,\n",
    "             linestyle = 'none',marker = 'o',markersize= 3,\n",
    "             markerfacecolor = 'black',markeredgecolor = 'black', capsize= 5)\n",
    "\n",
    "plt.vlines(0,0, len(l1), linestyle = '--')\n",
    "plt.yticks(range(len(l2)),l2);"
   ]
  },
  {
   "cell_type": "markdown",
   "id": "0b7d8eab",
   "metadata": {},
   "source": [
    "\n",
    "Diabetes in adults"
   ]
  },
  {
   "cell_type": "code",
   "execution_count": 24,
   "id": "551e0166",
   "metadata": {},
   "outputs": [],
   "source": [
    "diabetes_london = pd.read_csv(Path.cwd() / \"data/diabetes_estimates_osward.csv\")"
   ]
  },
  {
   "cell_type": "code",
   "execution_count": 25,
   "id": "bc1207d7",
   "metadata": {},
   "outputs": [
    {
     "data": {
      "text/html": [
       "<div>\n",
       "<style scoped>\n",
       "    .dataframe tbody tr th:only-of-type {\n",
       "        vertical-align: middle;\n",
       "    }\n",
       "\n",
       "    .dataframe tbody tr th {\n",
       "        vertical-align: top;\n",
       "    }\n",
       "\n",
       "    .dataframe thead th {\n",
       "        text-align: right;\n",
       "    }\n",
       "</style>\n",
       "<table border=\"1\" class=\"dataframe\">\n",
       "  <thead>\n",
       "    <tr style=\"text-align: right;\">\n",
       "      <th></th>\n",
       "      <th>area_id</th>\n",
       "      <th>gp_patients</th>\n",
       "      <th>gp_patients_diabetes</th>\n",
       "      <th>estimated_diabetes_prevalence</th>\n",
       "    </tr>\n",
       "  </thead>\n",
       "  <tbody>\n",
       "    <tr>\n",
       "      <th>0</th>\n",
       "      <td>E05000026</td>\n",
       "      <td>13136</td>\n",
       "      <td>1068</td>\n",
       "      <td>8.1</td>\n",
       "    </tr>\n",
       "    <tr>\n",
       "      <th>1</th>\n",
       "      <td>E05000027</td>\n",
       "      <td>8954</td>\n",
       "      <td>631</td>\n",
       "      <td>7.0</td>\n",
       "    </tr>\n",
       "    <tr>\n",
       "      <th>2</th>\n",
       "      <td>E05000028</td>\n",
       "      <td>12032</td>\n",
       "      <td>958</td>\n",
       "      <td>8.0</td>\n",
       "    </tr>\n",
       "    <tr>\n",
       "      <th>3</th>\n",
       "      <td>E05000029</td>\n",
       "      <td>8853</td>\n",
       "      <td>700</td>\n",
       "      <td>7.9</td>\n",
       "    </tr>\n",
       "    <tr>\n",
       "      <th>4</th>\n",
       "      <td>E05000030</td>\n",
       "      <td>8813</td>\n",
       "      <td>640</td>\n",
       "      <td>7.3</td>\n",
       "    </tr>\n",
       "  </tbody>\n",
       "</table>\n",
       "</div>"
      ],
      "text/plain": [
       "     area_id  gp_patients  gp_patients_diabetes  estimated_diabetes_prevalence\n",
       "0  E05000026        13136                  1068                            8.1\n",
       "1  E05000027         8954                   631                            7.0\n",
       "2  E05000028        12032                   958                            8.0\n",
       "3  E05000029         8853                   700                            7.9\n",
       "4  E05000030         8813                   640                            7.3"
      ]
     },
     "execution_count": 25,
     "metadata": {},
     "output_type": "execute_result"
    }
   ],
   "source": [
    "diabetes_london.head(5)\n"
   ]
  },
  {
   "cell_type": "code",
   "execution_count": 26,
   "id": "586e3c70",
   "metadata": {},
   "outputs": [],
   "source": [
    "#merging TESCO data with diabetes\n",
    "joined_df_1 = grocery_london.merge(diabetes_london, how='inner', on='area_id')\n"
   ]
  },
  {
   "cell_type": "code",
   "execution_count": 27,
   "id": "f6eedbcf",
   "metadata": {},
   "outputs": [
    {
     "data": {
      "text/html": [
       "<div>\n",
       "<style scoped>\n",
       "    .dataframe tbody tr th:only-of-type {\n",
       "        vertical-align: middle;\n",
       "    }\n",
       "\n",
       "    .dataframe tbody tr th {\n",
       "        vertical-align: top;\n",
       "    }\n",
       "\n",
       "    .dataframe thead th {\n",
       "        text-align: right;\n",
       "    }\n",
       "</style>\n",
       "<table border=\"1\" class=\"dataframe\">\n",
       "  <thead>\n",
       "    <tr style=\"text-align: right;\">\n",
       "      <th></th>\n",
       "      <th>area_id</th>\n",
       "      <th>weight</th>\n",
       "      <th>weight_perc2.5</th>\n",
       "      <th>weight_perc25</th>\n",
       "      <th>weight_perc50</th>\n",
       "      <th>weight_perc75</th>\n",
       "      <th>weight_perc97.5</th>\n",
       "      <th>weight_std</th>\n",
       "      <th>weight_ci95</th>\n",
       "      <th>volume</th>\n",
       "      <th>...</th>\n",
       "      <th>female</th>\n",
       "      <th>age_0_17</th>\n",
       "      <th>age_18_64</th>\n",
       "      <th>age_65+</th>\n",
       "      <th>avg_age</th>\n",
       "      <th>area_sq_km</th>\n",
       "      <th>people_per_sq_km</th>\n",
       "      <th>gp_patients</th>\n",
       "      <th>gp_patients_diabetes</th>\n",
       "      <th>estimated_diabetes_prevalence</th>\n",
       "    </tr>\n",
       "  </thead>\n",
       "  <tbody>\n",
       "    <tr>\n",
       "      <th>0</th>\n",
       "      <td>E05000026</td>\n",
       "      <td>449.535137</td>\n",
       "      <td>32.5</td>\n",
       "      <td>166.4</td>\n",
       "      <td>300.0</td>\n",
       "      <td>500.0</td>\n",
       "      <td>1500.0</td>\n",
       "      <td>771.349423</td>\n",
       "      <td>3.716832</td>\n",
       "      <td>125.960833</td>\n",
       "      <td>...</td>\n",
       "      <td>6901.0</td>\n",
       "      <td>4211.0</td>\n",
       "      <td>9421.0</td>\n",
       "      <td>738.0</td>\n",
       "      <td>29.572999</td>\n",
       "      <td>1.26</td>\n",
       "      <td>11404.761905</td>\n",
       "      <td>13136</td>\n",
       "      <td>1068</td>\n",
       "      <td>8.1</td>\n",
       "    </tr>\n",
       "    <tr>\n",
       "      <th>1</th>\n",
       "      <td>E05000027</td>\n",
       "      <td>413.130263</td>\n",
       "      <td>32.5</td>\n",
       "      <td>150.0</td>\n",
       "      <td>300.0</td>\n",
       "      <td>500.0</td>\n",
       "      <td>1500.0</td>\n",
       "      <td>626.395178</td>\n",
       "      <td>5.164174</td>\n",
       "      <td>110.664114</td>\n",
       "      <td>...</td>\n",
       "      <td>5617.0</td>\n",
       "      <td>3205.0</td>\n",
       "      <td>6608.0</td>\n",
       "      <td>1032.0</td>\n",
       "      <td>33.568004</td>\n",
       "      <td>1.36</td>\n",
       "      <td>7974.264706</td>\n",
       "      <td>8954</td>\n",
       "      <td>631</td>\n",
       "      <td>7.0</td>\n",
       "    </tr>\n",
       "    <tr>\n",
       "      <th>2</th>\n",
       "      <td>E05000028</td>\n",
       "      <td>407.100472</td>\n",
       "      <td>32.5</td>\n",
       "      <td>160.0</td>\n",
       "      <td>300.0</td>\n",
       "      <td>500.0</td>\n",
       "      <td>1200.0</td>\n",
       "      <td>545.890959</td>\n",
       "      <td>2.710677</td>\n",
       "      <td>121.990710</td>\n",
       "      <td>...</td>\n",
       "      <td>7106.0</td>\n",
       "      <td>4180.0</td>\n",
       "      <td>8537.0</td>\n",
       "      <td>1139.0</td>\n",
       "      <td>32.032693</td>\n",
       "      <td>1.29</td>\n",
       "      <td>10741.085271</td>\n",
       "      <td>12032</td>\n",
       "      <td>958</td>\n",
       "      <td>8.0</td>\n",
       "    </tr>\n",
       "    <tr>\n",
       "      <th>3</th>\n",
       "      <td>E05000029</td>\n",
       "      <td>384.173858</td>\n",
       "      <td>30.0</td>\n",
       "      <td>150.0</td>\n",
       "      <td>250.0</td>\n",
       "      <td>454.0</td>\n",
       "      <td>1500.0</td>\n",
       "      <td>591.837557</td>\n",
       "      <td>4.968373</td>\n",
       "      <td>122.245578</td>\n",
       "      <td>...</td>\n",
       "      <td>5550.0</td>\n",
       "      <td>3023.0</td>\n",
       "      <td>6251.0</td>\n",
       "      <td>1576.0</td>\n",
       "      <td>36.004793</td>\n",
       "      <td>3.38</td>\n",
       "      <td>3210.059172</td>\n",
       "      <td>8853</td>\n",
       "      <td>700</td>\n",
       "      <td>7.9</td>\n",
       "    </tr>\n",
       "    <tr>\n",
       "      <th>4</th>\n",
       "      <td>E05000030</td>\n",
       "      <td>356.882607</td>\n",
       "      <td>30.0</td>\n",
       "      <td>140.0</td>\n",
       "      <td>250.0</td>\n",
       "      <td>450.0</td>\n",
       "      <td>1000.0</td>\n",
       "      <td>465.284180</td>\n",
       "      <td>3.880963</td>\n",
       "      <td>109.959688</td>\n",
       "      <td>...</td>\n",
       "      <td>5833.0</td>\n",
       "      <td>2747.0</td>\n",
       "      <td>6961.0</td>\n",
       "      <td>1640.0</td>\n",
       "      <td>37.247444</td>\n",
       "      <td>3.45</td>\n",
       "      <td>3289.275362</td>\n",
       "      <td>8813</td>\n",
       "      <td>640</td>\n",
       "      <td>7.3</td>\n",
       "    </tr>\n",
       "  </tbody>\n",
       "</table>\n",
       "<p>5 rows × 205 columns</p>\n",
       "</div>"
      ],
      "text/plain": [
       "     area_id      weight  weight_perc2.5  weight_perc25  weight_perc50  \\\n",
       "0  E05000026  449.535137            32.5          166.4          300.0   \n",
       "1  E05000027  413.130263            32.5          150.0          300.0   \n",
       "2  E05000028  407.100472            32.5          160.0          300.0   \n",
       "3  E05000029  384.173858            30.0          150.0          250.0   \n",
       "4  E05000030  356.882607            30.0          140.0          250.0   \n",
       "\n",
       "   weight_perc75  weight_perc97.5  weight_std  weight_ci95      volume  ...  \\\n",
       "0          500.0           1500.0  771.349423     3.716832  125.960833  ...   \n",
       "1          500.0           1500.0  626.395178     5.164174  110.664114  ...   \n",
       "2          500.0           1200.0  545.890959     2.710677  121.990710  ...   \n",
       "3          454.0           1500.0  591.837557     4.968373  122.245578  ...   \n",
       "4          450.0           1000.0  465.284180     3.880963  109.959688  ...   \n",
       "\n",
       "   female  age_0_17  age_18_64  age_65+    avg_age  area_sq_km  \\\n",
       "0  6901.0    4211.0     9421.0    738.0  29.572999        1.26   \n",
       "1  5617.0    3205.0     6608.0   1032.0  33.568004        1.36   \n",
       "2  7106.0    4180.0     8537.0   1139.0  32.032693        1.29   \n",
       "3  5550.0    3023.0     6251.0   1576.0  36.004793        3.38   \n",
       "4  5833.0    2747.0     6961.0   1640.0  37.247444        3.45   \n",
       "\n",
       "   people_per_sq_km  gp_patients  gp_patients_diabetes  \\\n",
       "0      11404.761905        13136                  1068   \n",
       "1       7974.264706         8954                   631   \n",
       "2      10741.085271        12032                   958   \n",
       "3       3210.059172         8853                   700   \n",
       "4       3289.275362         8813                   640   \n",
       "\n",
       "   estimated_diabetes_prevalence  \n",
       "0                            8.1  \n",
       "1                            7.0  \n",
       "2                            8.0  \n",
       "3                            7.9  \n",
       "4                            7.3  \n",
       "\n",
       "[5 rows x 205 columns]"
      ]
     },
     "execution_count": 27,
     "metadata": {},
     "output_type": "execute_result"
    }
   ],
   "source": [
    "joined_df_1.head(5)"
   ]
  },
  {
   "cell_type": "code",
   "execution_count": 28,
   "id": "55d1a0cf",
   "metadata": {},
   "outputs": [
    {
     "name": "stdout",
     "output_type": "stream",
     "text": [
      "We have 202 potentials predictors and 4 potential labels, for 547 datapoints\n"
     ]
    }
   ],
   "source": [
    "print(f\"We have {len(grocery_london.columns)} potentials predictors and {len(diabetes_london.columns)} potential labels, for {len(joined_df_1)} datapoints\")"
   ]
  },
  {
   "cell_type": "code",
   "execution_count": 29,
   "id": "efb1c567",
   "metadata": {},
   "outputs": [],
   "source": [
    "#finding the correlation between the energy components\n",
    "nutrients_fraction1 = [\"fibre\", \"protein\", \"saturate\",\"fat\",\"sugar\",\"carb\",\"energy_fat\"]\n",
    "\n",
    "\n",
    "def compute_correlations_diabetes(df,estimated_diabetes_prevalence, categories=nutrients_fraction1):\n",
    "    r_values1 = []\n",
    "    p_values1 = []\n",
    "    category1 = []\n",
    "\n",
    "    for cat in categories:\n",
    "        correl, p_value = stats.spearmanr(df[cat],df[estimated_diabetes_prevalence])\n",
    "        r_values1.append(correl)\n",
    "        p_values1.append(p_value)\n",
    "        category1.append(cat)\n",
    "\n",
    "\n",
    "    correlation_df = pd.DataFrame({'Category1' : category1, 'R': r_values1, 'p': p_values1, 'statistically_significant' : [ p < 0.1 for p in p_values1]})\n",
    "    correlation_df\n",
    "    \n",
    "    return correlation_df"
   ]
  },
  {
   "cell_type": "code",
   "execution_count": 30,
   "id": "49deb8bb",
   "metadata": {},
   "outputs": [
    {
     "data": {
      "image/png": "[encoded data removed]",
      "text/plain": [
       "<Figure size 720x432 with 1 Axes>"
      ]
     },
     "metadata": {
      "needs_background": "light"
     },
     "output_type": "display_data"
    }
   ],
   "source": [
    "correlation_diabetes = compute_correlations_diabetes(df=joined_df_1,estimated_diabetes_prevalence=\"estimated_diabetes_prevalence\")\n",
    "\n",
    "fig = plt.figure(figsize=(10,6))\n",
    "plt.title('correlation between diabetes and food', fontsize=20)\n",
    "plt.bar(correlation_diabetes.Category1,correlation_diabetes.R, color = [ 'white' if not v[3] else'tab:orange' if v[1] > 0 else 'tab:blue' for v in correlation_diabetes.values])\n",
    "plt.xticks(correlation_diabetes.Category1,nutrients_fraction1, rotation='vertical',fontsize=15)\n",
    "plt.axhline(y=0,color='black') \n",
    "plt.ylabel('R',fontsize=20)\n",
    "plt.show()"
   ]
  },
  {
   "cell_type": "code",
   "execution_count": 31,
   "id": "c035f854",
   "metadata": {},
   "outputs": [
    {
     "data": {
      "text/html": [
       "<div>\n",
       "<style scoped>\n",
       "    .dataframe tbody tr th:only-of-type {\n",
       "        vertical-align: middle;\n",
       "    }\n",
       "\n",
       "    .dataframe tbody tr th {\n",
       "        vertical-align: top;\n",
       "    }\n",
       "\n",
       "    .dataframe thead th {\n",
       "        text-align: right;\n",
       "    }\n",
       "</style>\n",
       "<table border=\"1\" class=\"dataframe\">\n",
       "  <thead>\n",
       "    <tr style=\"text-align: right;\">\n",
       "      <th></th>\n",
       "      <th>saturate</th>\n",
       "      <th>fat</th>\n",
       "      <th>sugar</th>\n",
       "      <th>carb</th>\n",
       "      <th>alcohol</th>\n",
       "      <th>energy_fat</th>\n",
       "      <th>energy_carb</th>\n",
       "      <th>h_nutrients_calories_norm</th>\n",
       "      <th>avg_age</th>\n",
       "      <th>num_transactions</th>\n",
       "      <th>people_per_sq_km</th>\n",
       "      <th>estimated_diabetes_prevalence</th>\n",
       "    </tr>\n",
       "  </thead>\n",
       "  <tbody>\n",
       "    <tr>\n",
       "      <th>0</th>\n",
       "      <td>3.693721</td>\n",
       "      <td>9.488797</td>\n",
       "      <td>10.966213</td>\n",
       "      <td>19.381951</td>\n",
       "      <td>0.198172</td>\n",
       "      <td>85.399176</td>\n",
       "      <td>77.527804</td>\n",
       "      <td>0.660005</td>\n",
       "      <td>29.572999</td>\n",
       "      <td>405148.0</td>\n",
       "      <td>11404.761905</td>\n",
       "      <td>8.1</td>\n",
       "    </tr>\n",
       "    <tr>\n",
       "      <th>1</th>\n",
       "      <td>3.565913</td>\n",
       "      <td>9.733634</td>\n",
       "      <td>10.514427</td>\n",
       "      <td>18.950348</td>\n",
       "      <td>0.209917</td>\n",
       "      <td>87.602703</td>\n",
       "      <td>75.801393</td>\n",
       "      <td>0.663760</td>\n",
       "      <td>33.568004</td>\n",
       "      <td>135344.0</td>\n",
       "      <td>7974.264706</td>\n",
       "      <td>7.0</td>\n",
       "    </tr>\n",
       "    <tr>\n",
       "      <th>2</th>\n",
       "      <td>3.613582</td>\n",
       "      <td>9.216310</td>\n",
       "      <td>10.690272</td>\n",
       "      <td>19.662048</td>\n",
       "      <td>0.225425</td>\n",
       "      <td>82.946787</td>\n",
       "      <td>78.648192</td>\n",
       "      <td>0.667451</td>\n",
       "      <td>32.032693</td>\n",
       "      <td>365987.0</td>\n",
       "      <td>10741.085271</td>\n",
       "      <td>8.0</td>\n",
       "    </tr>\n",
       "    <tr>\n",
       "      <th>3</th>\n",
       "      <td>3.961264</td>\n",
       "      <td>9.700137</td>\n",
       "      <td>12.938606</td>\n",
       "      <td>20.084734</td>\n",
       "      <td>0.200380</td>\n",
       "      <td>87.301229</td>\n",
       "      <td>80.338935</td>\n",
       "      <td>0.652409</td>\n",
       "      <td>36.004793</td>\n",
       "      <td>126878.0</td>\n",
       "      <td>3210.059172</td>\n",
       "      <td>7.9</td>\n",
       "    </tr>\n",
       "    <tr>\n",
       "      <th>4</th>\n",
       "      <td>3.614663</td>\n",
       "      <td>9.381808</td>\n",
       "      <td>11.332898</td>\n",
       "      <td>19.581403</td>\n",
       "      <td>0.168952</td>\n",
       "      <td>84.436271</td>\n",
       "      <td>78.325611</td>\n",
       "      <td>0.663478</td>\n",
       "      <td>37.247444</td>\n",
       "      <td>129372.0</td>\n",
       "      <td>3289.275362</td>\n",
       "      <td>7.3</td>\n",
       "    </tr>\n",
       "  </tbody>\n",
       "</table>\n",
       "</div>"
      ],
      "text/plain": [
       "   saturate       fat      sugar       carb   alcohol  energy_fat  \\\n",
       "0  3.693721  9.488797  10.966213  19.381951  0.198172   85.399176   \n",
       "1  3.565913  9.733634  10.514427  18.950348  0.209917   87.602703   \n",
       "2  3.613582  9.216310  10.690272  19.662048  0.225425   82.946787   \n",
       "3  3.961264  9.700137  12.938606  20.084734  0.200380   87.301229   \n",
       "4  3.614663  9.381808  11.332898  19.581403  0.168952   84.436271   \n",
       "\n",
       "   energy_carb  h_nutrients_calories_norm    avg_age  num_transactions  \\\n",
       "0    77.527804                   0.660005  29.572999          405148.0   \n",
       "1    75.801393                   0.663760  33.568004          135344.0   \n",
       "2    78.648192                   0.667451  32.032693          365987.0   \n",
       "3    80.338935                   0.652409  36.004793          126878.0   \n",
       "4    78.325611                   0.663478  37.247444          129372.0   \n",
       "\n",
       "   people_per_sq_km  estimated_diabetes_prevalence  \n",
       "0      11404.761905                            8.1  \n",
       "1       7974.264706                            7.0  \n",
       "2      10741.085271                            8.0  \n",
       "3       3210.059172                            7.9  \n",
       "4       3289.275362                            7.3  "
      ]
     },
     "execution_count": 31,
     "metadata": {},
     "output_type": "execute_result"
    }
   ],
   "source": [
    "data_new_1 = joined_df_1[[\"saturate\",\"fat\",\"sugar\",\"carb\",\"alcohol\",\"energy_fat\",\"energy_carb\",\"h_nutrients_calories_norm\",\"avg_age\",\"num_transactions\",\"people_per_sq_km\",\"estimated_diabetes_prevalence\"]]\n",
    "data_new_1.head(5)"
   ]
  },
  {
   "cell_type": "code",
   "execution_count": 32,
   "id": "889c1980",
   "metadata": {},
   "outputs": [],
   "source": [
    "\n",
    "X_dia = data_new_1[[\"fat\",\"sugar\",\"carb\",\"alcohol\",\"energy_fat\",\"energy_carb\",\"h_nutrients_calories_norm\",\"avg_age\",\"num_transactions\",\"people_per_sq_km\", \"saturate\"]]\n",
    "\n",
    "Y_dia = data_new_1[\"estimated_diabetes_prevalence\"].astype(float)\n",
    "\n",
    "\n",
    "X_train_dia, X_test_dia, y_train_dia, y_test_dia = train_test_split(X_dia, Y_dia, test_size=0.3, random_state=0)\n",
    "\n"
   ]
  },
  {
   "cell_type": "code",
   "execution_count": 33,
   "id": "9e718336",
   "metadata": {},
   "outputs": [
    {
     "name": "stdout",
     "output_type": "stream",
     "text": [
      "get_params([linear_model_prediction])\n",
      "Mean squared error: 0.925\n",
      "R2 score: 0.759\n",
      "A ridge model obtain the best r2 score when the lasso alpha is 0.1. The r2 score is 0.647 and the related mse score is 1.357\n",
      "SVM: Mean squared error: 3.767\n",
      "SVM: R2 score: 0.020\n",
      "Decision Tree: Mean squared error: 1.744\n",
      "Decision Tree: R2 score: 0.546\n",
      "Gradient Boosting Regressor: Mean squared error: 1.622\n",
      "Gradient Boosting Regressor::R2 score: 0.578\n",
      "ADA: Mean squared error: 1.262\n",
      "ADA: R2 score: 0.672\n"
     ]
    }
   ],
   "source": [
    "linear_regression(X_train_dia, y_train_dia, X_test_dia, y_test_dia )\n",
    "ridge_model(X_train_dia, y_train_dia, X_test_dia, y_test_dia )\n",
    "svm_model(X_train_dia, y_train_dia, X_test_dia, y_test_dia)\n",
    "tree_model(X_train_dia, y_train_dia, X_test_dia, y_test_dia)\n",
    "GBR_model(X_train_dia, y_train_dia, X_test_dia, y_test_dia)\n",
    "ADA_model(X_train_dia, y_train_dia, X_test_dia, y_test_dia)"
   ]
  },
  {
   "cell_type": "markdown",
   "id": "155d5ec5",
   "metadata": {},
   "source": [
    "From above models the R2 value for linear regression is better and visualized below"
   ]
  },
  {
   "cell_type": "code",
   "execution_count": 34,
   "id": "5d1a199b",
   "metadata": {},
   "outputs": [
    {
     "data": {
      "text/plain": [
       "Text(0.5, 1.0, 'LinearRegression Plot')"
      ]
     },
     "execution_count": 34,
     "metadata": {},
     "output_type": "execute_result"
    },
    {
     "data": {
      "image/png": "[encoded data removed]",
      "text/plain": [
       "<Figure size 432x288 with 1 Axes>"
      ]
     },
     "metadata": {
      "needs_background": "light"
     },
     "output_type": "display_data"
    }
   ],
   "source": [
    "lm = LinearRegression()\n",
    "lm.fit(X_train_dia, y_train_dia)\n",
    "plt.scatter(lm.predict(X_train_dia), lm.predict(X_train_dia)-y_train_dia, c='b', s=40, alpha=0.5)\n",
    "plt.scatter(lm.predict(X_test_dia), lm.predict(X_test_dia)-y_test_dia, c='g', s=40)\n",
    "plt.hlines(y=0, xmin=0, xmax=0.65)\n",
    "plt.xlabel(\"Actual weight %\")\n",
    "plt.ylabel(\"Predicted weight %\")\n",
    "plt.title(\"LinearRegression Plot\")"
   ]
  },
  {
   "cell_type": "code",
   "execution_count": null,
   "id": "a5d5a896",
   "metadata": {},
   "outputs": [],
   "source": []
  },
  {
   "cell_type": "code",
   "execution_count": null,
   "id": "1c7ff125",
   "metadata": {},
   "outputs": [],
   "source": []
  }
 ],
 "metadata": {
  "kernelspec": {
   "display_name": "Python 3",
   "language": "python",
   "name": "python3"
  },
  "language_info": {
   "codemirror_mode": {
    "name": "ipython",
    "version": 3
   },
   "file_extension": ".py",
   "mimetype": "text/x-python",
   "name": "python",
   "nbconvert_exporter": "python",
   "pygments_lexer": "ipython3",
   "version": "3.8.8"
  }
 },
 "nbformat": 4,
 "nbformat_minor": 5
}
